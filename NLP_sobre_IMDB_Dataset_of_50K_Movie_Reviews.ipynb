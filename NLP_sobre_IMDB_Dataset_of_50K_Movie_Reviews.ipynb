{
  "nbformat": 4,
  "nbformat_minor": 0,
  "metadata": {
    "colab": {
      "provenance": [],
      "authorship_tag": "ABX9TyNGB2eRjc2Gc8/z6h6DSpoT",
      "include_colab_link": true
    },
    "kernelspec": {
      "name": "python3",
      "display_name": "Python 3"
    },
    "language_info": {
      "name": "python"
    }
  },
  "cells": [
    {
      "cell_type": "markdown",
      "metadata": {
        "id": "view-in-github",
        "colab_type": "text"
      },
      "source": [
        "<a href=\"https://colab.research.google.com/github/BDavidReyesU/Talento-tech/blob/main/NLP_sobre_IMDB_Dataset_of_50K_Movie_Reviews.ipynb\" target=\"_parent\"><img src=\"https://colab.research.google.com/assets/colab-badge.svg\" alt=\"Open In Colab\"/></a>"
      ]
    },
    {
      "cell_type": "code",
      "execution_count": 1,
      "metadata": {
        "id": "juBl_2egJs3g"
      },
      "outputs": [],
      "source": [
        "import pandas as pd\n"
      ]
    },
    {
      "cell_type": "code",
      "source": [
        "import pandas as pd\n",
        "\n",
        "# Importing dataset\n",
        "df = pd.read_csv(\"IMDB Dataset.csv\")\n",
        "print(df.head())\n"
      ],
      "metadata": {
        "colab": {
          "base_uri": "https://localhost:8080/"
        },
        "id": "xAvYdqvNK6As",
        "outputId": "ace25e6e-338a-4ad2-8e95-c8f0669e99b8"
      },
      "execution_count": 4,
      "outputs": [
        {
          "output_type": "stream",
          "name": "stdout",
          "text": [
            "                                              review sentiment\n",
            "0  One of the other reviewers has mentioned that ...  positive\n",
            "1  A wonderful little production. <br /><br />The...  positive\n",
            "2  I thought this was a wonderful way to spend ti...  positive\n",
            "3  Basically there's a family where a little boy ...  negative\n",
            "4  Petter Mattei's \"Love in the Time of Money\" is...  positive\n"
          ]
        }
      ]
    },
    {
      "cell_type": "code",
      "source": [
        "print(df.describe())"
      ],
      "metadata": {
        "colab": {
          "base_uri": "https://localhost:8080/"
        },
        "id": "A25Q-HToLX9L",
        "outputId": "4aefda92-a981-45df-d7e7-588740af4c25"
      },
      "execution_count": 5,
      "outputs": [
        {
          "output_type": "stream",
          "name": "stdout",
          "text": [
            "                                                   review sentiment\n",
            "count                                               50000     50000\n",
            "unique                                              49582         2\n",
            "top     Loved today's show!!! It was a variety and not...  positive\n",
            "freq                                                    5     25000\n"
          ]
        }
      ]
    },
    {
      "cell_type": "code",
      "source": [
        "# Sentiment count\n",
        "print(\"Total:\\n\", df['sentiment'].value_counts())\n"
      ],
      "metadata": {
        "colab": {
          "base_uri": "https://localhost:8080/"
        },
        "id": "RHEWMS8rLopc",
        "outputId": "e3603a37-fb15-4043-94b8-52e9aa4e5039"
      },
      "execution_count": 6,
      "outputs": [
        {
          "output_type": "stream",
          "name": "stdout",
          "text": [
            "Total:\n",
            " sentiment\n",
            "positive    25000\n",
            "negative    25000\n",
            "Name: count, dtype: int64\n"
          ]
        }
      ]
    },
    {
      "cell_type": "code",
      "source": [
        "import pandas as pd\n",
        "\n",
        "# Cargar el conjunto de datos IMDB\n",
        "IMDB = pd.read_csv(\"IMDB Dataset.csv\")\n",
        "\n",
        "review = []\n",
        "sentences = list(IMDB['review'])\n",
        "for sen in sentences:\n",
        "    review.append(sen)\n"
      ],
      "metadata": {
        "id": "T35ym4slMmNq"
      },
      "execution_count": 8,
      "outputs": []
    },
    {
      "cell_type": "code",
      "source": [
        "import numpy as np\n",
        "\n",
        "labels = IMDB['sentiment']\n",
        "labels = np.array(list(map(lambda x: 1 if x==\"positive\" else 0, labels)))\n"
      ],
      "metadata": {
        "id": "ph7CXl-dM2Mo"
      },
      "execution_count": 9,
      "outputs": []
    },
    {
      "cell_type": "code",
      "source": [
        "from sklearn.model_selection import train_test_split\n",
        "\n",
        "train_sentences, test_sentences, train_labels, test_labels = train_test_split(review, labels, test_size=0.20)\n"
      ],
      "metadata": {
        "id": "9MWfSo5hNA44"
      },
      "execution_count": 10,
      "outputs": []
    },
    {
      "cell_type": "code",
      "source": [
        "# Parameters\n",
        "vocab_size = 1000\n",
        "max_length = 120\n",
        "embedding_dim = 16\n",
        "trunc_type = 'post'\n",
        "oov_tok = \"<00V>\"\n"
      ],
      "metadata": {
        "id": "jWuVj48zNrlV"
      },
      "execution_count": 11,
      "outputs": []
    },
    {
      "cell_type": "code",
      "source": [
        "from keras.preprocessing.text import Tokenizer\n",
        "from keras.preprocessing.sequence import pad_sequences\n",
        "\n",
        "# Initialize the Tokenizer class\n",
        "tokenizer = Tokenizer(num_words=vocab_size, oov_token=oov_tok)\n",
        "\n",
        "# Generate the word index dictionary for the training sentences\n",
        "tokenizer.fit_on_texts(train_sentences)\n",
        "word_index = tokenizer.word_index\n",
        "\n",
        "# Generate and pad the training sequences\n",
        "sequences = tokenizer.texts_to_sequences(train_sentences)\n",
        "padded = pad_sequences(sequences, maxlen=max_length, truncating=trunc_type)\n",
        "\n",
        "# Generate and pad the test sequences\n",
        "test_sequences = tokenizer.texts_to_sequences(test_sentences)\n",
        "test_padded = pad_sequences(test_sequences, maxlen=max_length, truncating=trunc_type)\n"
      ],
      "metadata": {
        "id": "ip2i7JYrOIAt"
      },
      "execution_count": 12,
      "outputs": []
    },
    {
      "cell_type": "code",
      "source": [
        "import keras\n",
        "# Build the model\n",
        "model = keras.Sequential([\n",
        "    keras.layers.Embedding(vocab_size, embedding_dim, input_length=max_length),\n",
        "    keras.layers.Flatten(),\n",
        "    keras.layers.Dense(64, activation='relu'),\n",
        "    keras.layers.Dense(1, activation='sigmoid')\n",
        "])\n"
      ],
      "metadata": {
        "id": "a1n0w2PDOXwS"
      },
      "execution_count": 15,
      "outputs": []
    },
    {
      "cell_type": "code",
      "source": [
        "# Setup the training parameters\n",
        "model.compile(loss='binary_crossentropy', optimizer='adam', metrics=['accuracy'])\n",
        "\n",
        "# Print the model summary\n",
        "model.summary()\n"
      ],
      "metadata": {
        "colab": {
          "base_uri": "https://localhost:8080/"
        },
        "id": "-dn7-TlEOqUm",
        "outputId": "cc7c9f97-e08a-4910-cef8-fafe702b65cb"
      },
      "execution_count": 16,
      "outputs": [
        {
          "output_type": "stream",
          "name": "stdout",
          "text": [
            "Model: \"sequential\"\n",
            "_________________________________________________________________\n",
            " Layer (type)                Output Shape              Param #   \n",
            "=================================================================\n",
            " embedding (Embedding)       (None, 120, 16)           16000     \n",
            "                                                                 \n",
            " flatten (Flatten)           (None, 1920)              0         \n",
            "                                                                 \n",
            " dense (Dense)               (None, 64)                122944    \n",
            "                                                                 \n",
            " dense_1 (Dense)             (None, 1)                 65        \n",
            "                                                                 \n",
            "=================================================================\n",
            "Total params: 139009 (543.00 KB)\n",
            "Trainable params: 139009 (543.00 KB)\n",
            "Non-trainable params: 0 (0.00 Byte)\n",
            "_________________________________________________________________\n"
          ]
        }
      ]
    },
    {
      "cell_type": "code",
      "source": [
        "num_epochs = 10  # Define el número de épocas de entrenamiento\n",
        "\n",
        "# Train the model\n",
        "history = model.fit(padded, train_labels, epochs=num_epochs, validation_data=(test_padded, test_labels))\n",
        "\n",
        "# Graficar el historial de entrenamiento\n",
        "pd.DataFrame(history.history).plot(grid=True)\n"
      ],
      "metadata": {
        "colab": {
          "base_uri": "https://localhost:8080/",
          "height": 794
        },
        "id": "AiXkmlbnO5jO",
        "outputId": "68b00c2f-fece-4fe1-8f14-cf3ef6bfb11b"
      },
      "execution_count": 18,
      "outputs": [
        {
          "output_type": "stream",
          "name": "stdout",
          "text": [
            "Epoch 1/10\n",
            "1250/1250 [==============================] - 17s 12ms/step - loss: 0.4692 - accuracy: 0.7654 - val_loss: 0.4107 - val_accuracy: 0.8101\n",
            "Epoch 2/10\n",
            "1250/1250 [==============================] - 7s 6ms/step - loss: 0.3691 - accuracy: 0.8342 - val_loss: 0.4213 - val_accuracy: 0.8038\n",
            "Epoch 3/10\n",
            "1250/1250 [==============================] - 6s 5ms/step - loss: 0.3099 - accuracy: 0.8654 - val_loss: 0.4577 - val_accuracy: 0.7928\n",
            "Epoch 4/10\n",
            "1250/1250 [==============================] - 8s 7ms/step - loss: 0.2456 - accuracy: 0.9001 - val_loss: 0.5411 - val_accuracy: 0.7801\n",
            "Epoch 5/10\n",
            "1250/1250 [==============================] - 7s 6ms/step - loss: 0.1828 - accuracy: 0.9290 - val_loss: 0.6524 - val_accuracy: 0.7737\n",
            "Epoch 6/10\n",
            "1250/1250 [==============================] - 9s 7ms/step - loss: 0.1246 - accuracy: 0.9541 - val_loss: 0.8239 - val_accuracy: 0.7669\n",
            "Epoch 7/10\n",
            "1250/1250 [==============================] - 9s 7ms/step - loss: 0.0774 - accuracy: 0.9757 - val_loss: 1.0017 - val_accuracy: 0.7616\n",
            "Epoch 8/10\n",
            "1250/1250 [==============================] - 7s 6ms/step - loss: 0.0473 - accuracy: 0.9858 - val_loss: 1.2169 - val_accuracy: 0.7592\n",
            "Epoch 9/10\n",
            "1250/1250 [==============================] - 8s 6ms/step - loss: 0.0309 - accuracy: 0.9920 - val_loss: 1.3872 - val_accuracy: 0.7575\n",
            "Epoch 10/10\n",
            "1250/1250 [==============================] - 10s 8ms/step - loss: 0.0221 - accuracy: 0.9944 - val_loss: 1.5075 - val_accuracy: 0.7626\n"
          ]
        },
        {
          "output_type": "execute_result",
          "data": {
            "text/plain": [
              "<Axes: >"
            ]
          },
          "metadata": {},
          "execution_count": 18
        },
        {
          "output_type": "display_data",
          "data": {
            "text/plain": [
              "<Figure size 640x480 with 1 Axes>"
            ],
            "image/png": "[encoded data removed]"
          },
          "metadata": {}
        }
      ]
    },
    {
      "cell_type": "markdown",
      "source": [
        "\n",
        "\n",
        "1. **¿Qué hace el código en general?**\n",
        "   El código construye un \"cerebro\" que aprende a entender si las reseñas de películas son positivas o negativas. Luego, le enseñamos a este \"cerebro\" a partir de ejemplos y luego lo evaluamos.\n",
        "\n",
        "2. **¿Cuál es el propósito de cada parte del código?**\n",
        "   Primero, se preparan los datos y luego se entrena el modelo, donde le enseñamos al modelo lo que es una reseña positiva y una negativa. Finalmente, miramos cómo le va al modelo durante el entrenamiento.\n",
        "\n",
        "3. **¿Por qué se utilizan los parámetros específicos en cada función?**\n",
        "   Estos parámetros son como ajustes para el modelo. Le decimos al modelo qué tan grande puede ser su \"vocabulario\" (las palabras que conoce), cuánto puede aprender de cada reseña, cómo de largas pueden ser estas reseñas y cómo debe aprender de los errores.\n",
        "\n",
        "4. **¿Cuál es la diferencia entre train_sentences y test_sentences?**\n",
        "   Las `train_sentences` son las reseñas que usamos para enseñar al modelo, como las lecciones en la escuela. Las `test_sentences` son como las preguntas del examen que el modelo tiene que responder después de aprender.\n",
        "\n",
        "5. **¿Qué significan vocab_size, max_length, embedding_dim y oov_tok?**\n",
        "   - `vocab_size`: Es cuántas palabras diferentes puede aprender el modelo.\n",
        "   - `max_length`: Es cuántas palabras en una reseña el modelo considera antes de decidir.\n",
        "   - `embedding_dim`: Es como el tamaño de las gafas del modelo para leer el mundo de las reseñas.\n",
        "   - `oov_tok`: Es como una etiqueta que usa el modelo para decir \"no conozco esta palabra\".\n",
        "\n",
        "6. **¿Por qué se utilizan las capas Embedding, Flatten, Dense y sigmoid en el modelo?**\n",
        "   - `Embedding`: Es como el cerebro aprende el significado de cada palabra.\n",
        "   - `Flatten`: Es como aplanar una pizza para poder ponerla en una caja.\n",
        "   - `Dense`: Es como conectar diferentes partes del cerebro.\n",
        "   - `sigmoid`: Es como una luz que se enciende cuando el cerebro piensa que una reseña es positiva.\n",
        "\n",
        "7. **¿Qué representan las métricas de pérdida y precisión en el modelo?**\n",
        "   - La pérdida (`loss`) es como el modelo se siente cuando se equivoca.\n",
        "   - La precisión (`accuracy`) es como el modelo se da cuenta de cuántas preguntas respondió correctamente.\n",
        "\n",
        "8. **¿Qué pasa durante el entrenamiento del modelo?**\n",
        "   Es como enseñar a un perro nuevos trucos. El modelo intenta aprender de los ejemplos que le damos y trata de mejorar en cada ronda de práctica.\n",
        "\n",
        "9. **¿Qué significa las épocas y cómo afectan al proceso de entrenamiento?**\n",
        "   Las épocas son como vueltas alrededor de la pista de carreras. Cuantas más vueltas, más oportunidades tiene el modelo de mejorar.\n",
        "\n",
        "10. **¿Por qué es importante la validación del modelo utilizando los datos de prueba?**\n",
        "    Queremos asegurarnos de que el modelo no solo aprenda de memoria las respuestas, sino que realmente entienda las reseñas. Por eso, lo ponemos a prueba con reseñas que nunca ha visto antes.\n",
        "\n",
        "11. **¿Cuál es el objetivo final del código?**\n",
        "    El objetivo es enseñar al modelo a entender las reseñas de películas y luego ver qué tan bien lo hace en el examen para decidir si lo estamos enseñando bien o no."
      ],
      "metadata": {
        "id": "iK8KdGM3PgB7"
      }
    },
    {
      "cell_type": "code",
      "source": [],
      "metadata": {
        "id": "KuA7mYTJPnJB"
      },
      "execution_count": null,
      "outputs": []
    }
  ]
}