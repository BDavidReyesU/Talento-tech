{
  "nbformat": 4,
  "nbformat_minor": 0,
  "metadata": {
    "colab": {
      "provenance": [],
      "authorship_tag": "ABX9TyPCU9DK15j+/k2Z4mstYSct",
      "include_colab_link": true
    },
    "kernelspec": {
      "name": "python3",
      "display_name": "Python 3"
    },
    "language_info": {
      "name": "python"
    }
  },
  "cells": [
    {
      "cell_type": "markdown",
      "metadata": {
        "id": "view-in-github",
        "colab_type": "text"
      },
      "source": [
        "<a href=\"https://colab.research.google.com/github/BDavidReyesU/Talento-tech/blob/main/KERAS.ipynb\" target=\"_parent\"><img src=\"https://colab.research.google.com/assets/colab-badge.svg\" alt=\"Open In Colab\"/></a>"
      ]
    },
    {
      "cell_type": "code",
      "execution_count": null,
      "metadata": {
        "colab": {
          "base_uri": "https://localhost:8080/"
        },
        "id": "m8VRApX64G7w",
        "outputId": "80fc2636-7121-4d04-e33c-dec541747a27"
      },
      "outputs": [
        {
          "output_type": "stream",
          "name": "stdout",
          "text": [
            "Requirement already satisfied: scikit-learn in /usr/local/lib/python3.10/dist-packages (1.2.2)\n",
            "Requirement already satisfied: numpy>=1.17.3 in /usr/local/lib/python3.10/dist-packages (from scikit-learn) (1.25.2)\n",
            "Requirement already satisfied: scipy>=1.3.2 in /usr/local/lib/python3.10/dist-packages (from scikit-learn) (1.11.4)\n",
            "Requirement already satisfied: joblib>=1.1.1 in /usr/local/lib/python3.10/dist-packages (from scikit-learn) (1.3.2)\n",
            "Requirement already satisfied: threadpoolctl>=2.0.0 in /usr/local/lib/python3.10/dist-packages (from scikit-learn) (3.3.0)\n",
            "Name: scikit-learn\n",
            "Version: 1.2.2\n",
            "Summary: A set of python modules for machine learning and data mining\n",
            "Home-page: http://scikit-learn.org\n",
            "Author: \n",
            "Author-email: \n",
            "License: new BSD\n",
            "Location: /usr/local/lib/python3.10/dist-packages\n",
            "Requires: joblib, numpy, scipy, threadpoolctl\n",
            "Required-by: bigframes, fastai, imbalanced-learn, librosa, mlxtend, qudida, sklearn-pandas, yellowbrick\n"
          ]
        }
      ],
      "source": [
        "!pip install scikit-learn\n",
        "!pip show scikit-learn\n",
        "import keras\n",
        "from sklearn.datasets import make_classification\n",
        "from sklearn.model_selection import train_test_split"
      ]
    },
    {
      "cell_type": "code",
      "source": [
        "X, y = make_classification (n_samples=100, n_features=5, n_classes=2)"
      ],
      "metadata": {
        "id": "JvZPXCKY436w"
      },
      "execution_count": null,
      "outputs": []
    },
    {
      "cell_type": "code",
      "source": [
        "X_train, X_test, y_train, y_test = train_test_split(X, y,test_size=0.2)\n",
        "\n",
        "\n"
      ],
      "metadata": {
        "id": "sAFnUs336ftH"
      },
      "execution_count": null,
      "outputs": []
    },
    {
      "cell_type": "code",
      "source": [
        "y_train_categorical = keras.utils.to_categorical (y_train)\n",
        "y_test_categorical = keras.utils.to_categorical (y_test)\n"
      ],
      "metadata": {
        "id": "Y96t0nMR6-9C"
      },
      "execution_count": null,
      "outputs": []
    },
    {
      "cell_type": "code",
      "source": [
        "model = keras.models.Sequential()"
      ],
      "metadata": {
        "id": "yORXyN9S7aU6"
      },
      "execution_count": null,
      "outputs": []
    },
    {
      "cell_type": "code",
      "source": [
        "# Añadir una capa oculta con 10 neuronas y activación ReLU\n",
        "model.add(keras.layers. Dense (10,\n",
        "input_shape=(X_train.shape[1],), activation='relu'))\n",
        "#Añadir una capa de salida con 2 neuronas (una para cada clase) y activación softmax\n",
        "model.add(keras.layers. Dense (2, activation='softmax'))"
      ],
      "metadata": {
        "id": "bwCPwiFk7fpC"
      },
      "execution_count": null,
      "outputs": []
    },
    {
      "cell_type": "code",
      "source": [
        "#Compilar el modelo\n",
        "model.compile (optimizer='adam',\n",
        "loss='categorical_crossentropy', metrics=['accuracy'])"
      ],
      "metadata": {
        "id": "Ozdm03Cu7zNn"
      },
      "execution_count": null,
      "outputs": []
    },
    {
      "cell_type": "code",
      "source": [
        "#Entrenar el modelo\n",
        "model.fit (X_train, y_train_categorical, epochs=10,\n",
        "batch_size=32, validation_data= (X_test, y_test_categorical))"
      ],
      "metadata": {
        "colab": {
          "base_uri": "https://localhost:8080/"
        },
        "id": "KL3DNPXs8Ih6",
        "outputId": "7dfabbb1-e9fc-4736-8f38-4f107f57a46f"
      },
      "execution_count": null,
      "outputs": [
        {
          "output_type": "stream",
          "name": "stdout",
          "text": [
            "Epoch 1/10\n",
            "3/3 [==============================] - 3s 323ms/step - loss: 0.8006 - accuracy: 0.4625 - val_loss: 0.8288 - val_accuracy: 0.4500\n",
            "Epoch 2/10\n",
            "3/3 [==============================] - 0s 72ms/step - loss: 0.7853 - accuracy: 0.4750 - val_loss: 0.8166 - val_accuracy: 0.4500\n",
            "Epoch 3/10\n",
            "3/3 [==============================] - 0s 86ms/step - loss: 0.7706 - accuracy: 0.4750 - val_loss: 0.8048 - val_accuracy: 0.4500\n",
            "Epoch 4/10\n",
            "3/3 [==============================] - 0s 41ms/step - loss: 0.7569 - accuracy: 0.4750 - val_loss: 0.7931 - val_accuracy: 0.5500\n",
            "Epoch 5/10\n",
            "3/3 [==============================] - 0s 34ms/step - loss: 0.7424 - accuracy: 0.4875 - val_loss: 0.7816 - val_accuracy: 0.5500\n",
            "Epoch 6/10\n",
            "3/3 [==============================] - 0s 79ms/step - loss: 0.7298 - accuracy: 0.5000 - val_loss: 0.7703 - val_accuracy: 0.5500\n",
            "Epoch 7/10\n",
            "3/3 [==============================] - 0s 78ms/step - loss: 0.7153 - accuracy: 0.5125 - val_loss: 0.7593 - val_accuracy: 0.6000\n",
            "Epoch 8/10\n",
            "3/3 [==============================] - 0s 40ms/step - loss: 0.7026 - accuracy: 0.5500 - val_loss: 0.7483 - val_accuracy: 0.6500\n",
            "Epoch 9/10\n",
            "3/3 [==============================] - 0s 17ms/step - loss: 0.6898 - accuracy: 0.5500 - val_loss: 0.7377 - val_accuracy: 0.7000\n",
            "Epoch 10/10\n",
            "3/3 [==============================] - 0s 16ms/step - loss: 0.6767 - accuracy: 0.5625 - val_loss: 0.7276 - val_accuracy: 0.7000\n"
          ]
        },
        {
          "output_type": "execute_result",
          "data": {
            "text/plain": [
              "<keras.src.callbacks.History at 0x79df2812eb60>"
            ]
          },
          "metadata": {},
          "execution_count": 17
        }
      ]
    },
    {
      "cell_type": "code",
      "source": [
        "\n",
        "\n",
        "loss, accuracy =model.evaluate (X_test, y_test_categorical)"
      ],
      "metadata": {
        "colab": {
          "base_uri": "https://localhost:8080/"
        },
        "id": "5Zvg7vGD8RNG",
        "outputId": "4b288555-2a09-4309-b783-39c605e23032"
      },
      "execution_count": null,
      "outputs": [
        {
          "output_type": "stream",
          "name": "stdout",
          "text": [
            "1/1 [==============================] - 0s 35ms/step - loss: 0.7276 - accuracy: 0.7000\n"
          ]
        }
      ]
    },
    {
      "cell_type": "code",
      "source": [
        "print(\"Pérdida en el conjunto de prueba: \", loss)\n",
        "print (\"Precisión en el conjunto de prueba:\", accuracy)"
      ],
      "metadata": {
        "colab": {
          "base_uri": "https://localhost:8080/"
        },
        "id": "kyrrZyEZ8j14",
        "outputId": "52b75603-8196-4f45-cd62-6ee41f20467d"
      },
      "execution_count": null,
      "outputs": [
        {
          "output_type": "stream",
          "name": "stdout",
          "text": [
            "Pérdida en el conjunto de prueba:  0.7275962233543396\n",
            "Precisión en el conjunto de prueba: 0.699999988079071\n"
          ]
        }
      ]
    }
  ]
}