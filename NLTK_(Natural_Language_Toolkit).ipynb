{
  "nbformat": 4,
  "nbformat_minor": 0,
  "metadata": {
    "colab": {
      "provenance": [],
      "authorship_tag": "ABX9TyMTrFb/jFiYMHP8QeaDY7h5",
      "include_colab_link": true
    },
    "kernelspec": {
      "name": "python3",
      "display_name": "Python 3"
    },
    "language_info": {
      "name": "python"
    }
  },
  "cells": [
    {
      "cell_type": "markdown",
      "metadata": {
        "id": "view-in-github",
        "colab_type": "text"
      },
      "source": [
        "<a href=\"https://colab.research.google.com/github/BDavidReyesU/Talento-tech/blob/main/NLTK_(Natural_Language_Toolkit).ipynb\" target=\"_parent\"><img src=\"https://colab.research.google.com/assets/colab-badge.svg\" alt=\"Open In Colab\"/></a>"
      ]
    },
    {
      "cell_type": "code",
      "source": [
        "pip install nltk"
      ],
      "metadata": {
        "colab": {
          "base_uri": "https://localhost:8080/"
        },
        "id": "cjqi4eDJJq7h",
        "outputId": "eea103d0-ad4d-4329-e18a-43bc923f9f24"
      },
      "execution_count": 2,
      "outputs": [
        {
          "output_type": "stream",
          "name": "stdout",
          "text": [
            "Requirement already satisfied: nltk in /usr/local/lib/python3.10/dist-packages (3.8.1)\n",
            "Requirement already satisfied: click in /usr/local/lib/python3.10/dist-packages (from nltk) (8.1.7)\n",
            "Requirement already satisfied: joblib in /usr/local/lib/python3.10/dist-packages (from nltk) (1.4.0)\n",
            "Requirement already satisfied: regex>=2021.8.3 in /usr/local/lib/python3.10/dist-packages (from nltk) (2023.12.25)\n",
            "Requirement already satisfied: tqdm in /usr/local/lib/python3.10/dist-packages (from nltk) (4.66.2)\n"
          ]
        }
      ]
    },
    {
      "cell_type": "code",
      "execution_count": null,
      "metadata": {
        "id": "MIdL2eq6JVYS"
      },
      "outputs": [],
      "source": [
        "import nltk\n",
        "nltk.download()"
      ]
    },
    {
      "cell_type": "code",
      "source": [
        "import nltk\n",
        "from nltk.tokenize import word_tokenize\n",
        "\n",
        "nltk.download('punkt')\n",
        "\n",
        "sentence = \"NLTK es una biblioteca de procesamiento de lenguaje natural.\"\n",
        "tokens = word_tokenize(sentence)\n",
        "\n",
        "print(tokens)\n"
      ],
      "metadata": {
        "colab": {
          "base_uri": "https://localhost:8080/"
        },
        "id": "ubm9rN88LX7p",
        "outputId": "ca7f1d45-e591-4aaf-d1b1-6f55a4809530"
      },
      "execution_count": 4,
      "outputs": [
        {
          "output_type": "stream",
          "name": "stderr",
          "text": [
            "[nltk_data] Downloading package punkt to /root/nltk_data...\n",
            "[nltk_data]   Unzipping tokenizers/punkt.zip.\n"
          ]
        },
        {
          "output_type": "stream",
          "name": "stdout",
          "text": [
            "['NLTK', 'es', 'una', 'biblioteca', 'de', 'procesamiento', 'de', 'lenguaje', 'natural', '.']\n"
          ]
        }
      ]
    },
    {
      "cell_type": "code",
      "source": [
        "from nltk.stem import PorterStemmer\n",
        "\n",
        "words = [\"running\", \"plays\", \"jumped\"]\n",
        "stemmer = PorterStemmer()\n",
        "\n",
        "stems = [stemmer.stem(word) for word in words]\n",
        "print(stems)\n"
      ],
      "metadata": {
        "colab": {
          "base_uri": "https://localhost:8080/"
        },
        "id": "-OioQTkDLlXO",
        "outputId": "8c0e0d1e-75df-4e7a-abc1-21f3d598f7ab"
      },
      "execution_count": 5,
      "outputs": [
        {
          "output_type": "stream",
          "name": "stdout",
          "text": [
            "['run', 'play', 'jump']\n"
          ]
        }
      ]
    },
    {
      "cell_type": "code",
      "source": [
        "import nltk\n",
        "from nltk import pos_tag\n",
        "from nltk.tokenize import word_tokenize\n",
        "\n",
        "nltk.download('averaged_perceptron_tagger')\n",
        "\n",
        "sentence = \"NLTK es una biblioteca de procesamiento de lenguaje natural.\"\n",
        "tokens = word_tokenize(sentence)\n",
        "\n",
        "tagged_words = pos_tag(tokens)\n",
        "print(tagged_words)\n"
      ],
      "metadata": {
        "colab": {
          "base_uri": "https://localhost:8080/"
        },
        "id": "KuODyl89L0YJ",
        "outputId": "55ef62d8-01df-4a9e-c77e-17ce56b7e7b7"
      },
      "execution_count": 6,
      "outputs": [
        {
          "output_type": "stream",
          "name": "stderr",
          "text": [
            "[nltk_data] Downloading package averaged_perceptron_tagger to\n",
            "[nltk_data]     /root/nltk_data...\n",
            "[nltk_data]   Unzipping taggers/averaged_perceptron_tagger.zip.\n"
          ]
        },
        {
          "output_type": "stream",
          "name": "stdout",
          "text": [
            "[('NLTK', 'NNP'), ('es', 'CC'), ('una', 'JJ'), ('biblioteca', 'NN'), ('de', 'IN'), ('procesamiento', 'FW'), ('de', 'FW'), ('lenguaje', 'FW'), ('natural', 'JJ'), ('.', '.')]\n"
          ]
        }
      ]
    },
    {
      "cell_type": "markdown",
      "source": [
        "Ejemplo básico de clasi cación de texto utilizando el clasi cador Naive Bayes de **NLTK**"
      ],
      "metadata": {
        "id": "62GNAiV-L6fO"
      }
    },
    {
      "cell_type": "code",
      "source": [
        "import nltk\n",
        "import random"
      ],
      "metadata": {
        "id": "HaLuSDKhL-Sl"
      },
      "execution_count": 7,
      "outputs": []
    },
    {
      "cell_type": "code",
      "source": [
        "# Ejemplo de conjunto de datos de textos etiquetados\n",
        "data = [\n",
        "    (\"I love this movie\", \"positive\"),\n",
        "    (\"This movie is terrible\", \"negative\"),\n",
        "    (\"This movie is great\", \"positive\"),\n",
        "    (\"I dislike this movie\", \"negative\"),\n",
        "    (\"This film is amazing\", \"positive\"),\n",
        "    (\"I can't stand watching this movie\", \"negative\"),\n",
        "    (\"The acting in this movie is phenomenal\", \"positive\"),\n",
        "    (\"I regret wasting my time on this film\", \"negative\"),\n",
        "    (\"I thoroughly enjoyed this movie\", \"positive\"),\n",
        "    (\"This movie lacks depth and substance\", \"negative\"),\n",
        "    (\"The plot of this movie was captivating\", \"positive\"),\n",
        "    (\"I found the characters in this film to be very engaging\", \"positive\"),\n",
        "    (\"The special effects in this movie were impressive\", \"positive\"),\n",
        "    (\"The storyline was predictable and unoriginal\", \"negative\"),\n",
        "    (\"I was disappointed by the lack of character development\", \"negative\"),\n",
        "    (\"The cinematography in this film was stunning\", \"positive\"),\n",
        "    (\"The dialogue felt forced and unnatural\", \"negative\"),\n",
        "    (\"The pacing of the movie was too slow for my liking\", \"negative\"),\n",
        "    (\"I was pleasantly surprised by how much I enjoyed this film\", \"positive\"),\n",
        "    (\"The ending left me feeling unsatisfied and confused\", \"negative\"),\n",
        "    (\"This movie exceeded my expectations\", \"positive\"),\n",
        "    (\"The performances by the actors were lackluster\", \"negative\")\n",
        "]\n"
      ],
      "metadata": {
        "id": "9juHo6c0MQ1X"
      },
      "execution_count": 8,
      "outputs": []
    },
    {
      "cell_type": "code",
      "source": [
        "import nltk\n",
        "\n",
        "# Preprocesamiento de datos: tokenización y extracción de características\n",
        "def preprocess(text):\n",
        "    tokens = nltk.word_tokenize(text)\n",
        "    return {word: True for word in tokens}\n"
      ],
      "metadata": {
        "id": "EeRTNAuNMe7q"
      },
      "execution_count": 9,
      "outputs": []
    },
    {
      "cell_type": "code",
      "source": [
        "# Aplicamos el preprocesamiento a los datos\n",
        "featuresets = [(preprocess(text), label) for (text, label) in data]\n"
      ],
      "metadata": {
        "id": "hWz3ASy4MrNi"
      },
      "execution_count": 10,
      "outputs": []
    },
    {
      "cell_type": "code",
      "source": [
        "# Dividimos los datos en conjuntos de entrenamiento y prueba\n",
        "train_set, test_set = featuresets[:16], featuresets[16:]\n"
      ],
      "metadata": {
        "id": "1bOnkpEeM6br"
      },
      "execution_count": 11,
      "outputs": []
    },
    {
      "cell_type": "code",
      "source": [
        "# Entrenamos un clasificador utilizando Naive Bayes\n",
        "classifier = nltk.NaiveBayesClassifier.train(train_set)\n"
      ],
      "metadata": {
        "id": "JoQvBjkMNHCz"
      },
      "execution_count": 12,
      "outputs": []
    },
    {
      "cell_type": "code",
      "source": [
        "# Evaluamos el clasificador en el conjunto de prueba\n",
        "accuracy = nltk.classify.accuracy(classifier, test_set)\n",
        "print(\"Accuracy:\", accuracy)\n"
      ],
      "metadata": {
        "colab": {
          "base_uri": "https://localhost:8080/"
        },
        "id": "tIDLb1XwNSoq",
        "outputId": "2371d276-aaf3-432a-f944-d1507d0eaf27"
      },
      "execution_count": 13,
      "outputs": [
        {
          "output_type": "stream",
          "name": "stdout",
          "text": [
            "Accuracy: 0.6666666666666666\n"
          ]
        }
      ]
    },
    {
      "cell_type": "code",
      "source": [
        "# Clasificamos un nuevo texto\n",
        "new_text = \"This movie is amazing\"\n",
        "new_text_features = preprocess(new_text)\n",
        "predicted_label = classifier.classify(new_text_features)\n",
        "print(\"Predicted label:\", predicted_label)\n"
      ],
      "metadata": {
        "colab": {
          "base_uri": "https://localhost:8080/"
        },
        "id": "ygc2MzBvNeHd",
        "outputId": "381bfb55-42de-4ab1-830d-6d744117ad1e"
      },
      "execution_count": 14,
      "outputs": [
        {
          "output_type": "stream",
          "name": "stdout",
          "text": [
            "Predicted label: positive\n"
          ]
        }
      ]
    }
  ]
}